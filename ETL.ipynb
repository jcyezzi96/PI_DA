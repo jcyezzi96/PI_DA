{
 "cells": [
  {
   "cell_type": "code",
   "execution_count": 135,
   "metadata": {},
   "outputs": [],
   "source": [
    "import pandas as pd\n",
    "import numpy as np"
   ]
  },
  {
   "cell_type": "code",
   "execution_count": 136,
   "metadata": {},
   "outputs": [],
   "source": [
    "df = pd.read_csv('.\\AccidentesAviones.csv')"
   ]
  },
  {
   "cell_type": "markdown",
   "metadata": {},
   "source": [
    "Eliminamos la primer columna que tiene un índice innecesario"
   ]
  },
  {
   "cell_type": "code",
   "execution_count": 137,
   "metadata": {},
   "outputs": [],
   "source": [
    "df = df.drop(df.columns[0], axis=1)"
   ]
  },
  {
   "cell_type": "markdown",
   "metadata": {},
   "source": [
    "Cambiamos los nombres de las columnas"
   ]
  },
  {
   "cell_type": "code",
   "execution_count": 138,
   "metadata": {},
   "outputs": [],
   "source": [
    "nuevos_nombres = ['Date','Time','Location','Operator','Flight','Route','Type','Registration','Serial','Aboard','Passenger_Aboard','Crew_Aboard','Fatalities','Passenger_Fatalities','Crew_Fatalities','Ground_Fatalities','Summary']\n",
    "df.columns = nuevos_nombres"
   ]
  },
  {
   "cell_type": "markdown",
   "metadata": {},
   "source": [
    "Reemplazamos los valores '?' por valores vacíos (NaN)"
   ]
  },
  {
   "cell_type": "code",
   "execution_count": 139,
   "metadata": {},
   "outputs": [],
   "source": [
    "df.replace('?', np.nan, inplace=True)"
   ]
  },
  {
   "cell_type": "markdown",
   "metadata": {},
   "source": [
    "Convertimos la columna Date en formato fecha"
   ]
  },
  {
   "cell_type": "code",
   "execution_count": 140,
   "metadata": {},
   "outputs": [],
   "source": [
    "df['Date'] = pd.to_datetime(df['Date'])"
   ]
  },
  {
   "cell_type": "markdown",
   "metadata": {},
   "source": [
    "Convertimos la columna Time en formato hora"
   ]
  },
  {
   "cell_type": "code",
   "execution_count": 141,
   "metadata": {},
   "outputs": [],
   "source": [
    "df['Time'] = pd.to_datetime(df['Time'], format='%H%M', errors='coerce')\n",
    "df['Time'] = df['Time'].dt.strftime('%H:00')"
   ]
  },
  {
   "cell_type": "markdown",
   "metadata": {},
   "source": [
    "Convertimos algunas columnas a formato INT"
   ]
  },
  {
   "cell_type": "code",
   "execution_count": 142,
   "metadata": {},
   "outputs": [],
   "source": [
    "df['Aboard'] = df['Aboard'].fillna(0).astype(int)\n",
    "df['Fatalities'] = df['Fatalities'].fillna(0).astype(int)\n",
    "df['Crew_Fatalities'] = df['Crew_Fatalities'].fillna(0).astype(int)"
   ]
  },
  {
   "cell_type": "code",
   "execution_count": 143,
   "metadata": {},
   "outputs": [
    {
     "data": {
      "text/html": [
       "<div>\n",
       "<style scoped>\n",
       "    .dataframe tbody tr th:only-of-type {\n",
       "        vertical-align: middle;\n",
       "    }\n",
       "\n",
       "    .dataframe tbody tr th {\n",
       "        vertical-align: top;\n",
       "    }\n",
       "\n",
       "    .dataframe thead th {\n",
       "        text-align: right;\n",
       "    }\n",
       "</style>\n",
       "<table border=\"1\" class=\"dataframe\">\n",
       "  <thead>\n",
       "    <tr style=\"text-align: right;\">\n",
       "      <th></th>\n",
       "      <th>Date</th>\n",
       "      <th>Time</th>\n",
       "      <th>Location</th>\n",
       "      <th>Operator</th>\n",
       "      <th>Flight</th>\n",
       "      <th>Route</th>\n",
       "      <th>Type</th>\n",
       "      <th>Registration</th>\n",
       "      <th>Serial</th>\n",
       "      <th>Aboard</th>\n",
       "      <th>Passenger_Aboard</th>\n",
       "      <th>Crew_Aboard</th>\n",
       "      <th>Fatalities</th>\n",
       "      <th>Passenger_Fatalities</th>\n",
       "      <th>Crew_Fatalities</th>\n",
       "      <th>Ground_Fatalities</th>\n",
       "      <th>Summary</th>\n",
       "    </tr>\n",
       "  </thead>\n",
       "  <tbody>\n",
       "    <tr>\n",
       "      <th>0</th>\n",
       "      <td>1908-09-17</td>\n",
       "      <td>17:00</td>\n",
       "      <td>Fort Myer, Virginia</td>\n",
       "      <td>Military - U.S. Army</td>\n",
       "      <td>NaN</td>\n",
       "      <td>Demonstration</td>\n",
       "      <td>Wright Flyer III</td>\n",
       "      <td>NaN</td>\n",
       "      <td>1</td>\n",
       "      <td>2</td>\n",
       "      <td>1</td>\n",
       "      <td>1</td>\n",
       "      <td>1</td>\n",
       "      <td>1</td>\n",
       "      <td>0</td>\n",
       "      <td>0</td>\n",
       "      <td>During a demonstration flight, a U.S. Army flyer flown by Orville Wright nos...</td>\n",
       "    </tr>\n",
       "    <tr>\n",
       "      <th>1</th>\n",
       "      <td>1909-09-07</td>\n",
       "      <td>NaN</td>\n",
       "      <td>Juvisy-sur-Orge, France</td>\n",
       "      <td>NaN</td>\n",
       "      <td>NaN</td>\n",
       "      <td>Air show</td>\n",
       "      <td>Wright Byplane</td>\n",
       "      <td>SC1</td>\n",
       "      <td>NaN</td>\n",
       "      <td>1</td>\n",
       "      <td>0</td>\n",
       "      <td>1</td>\n",
       "      <td>1</td>\n",
       "      <td>0</td>\n",
       "      <td>0</td>\n",
       "      <td>0</td>\n",
       "      <td>Eugene Lefebvre was the first pilot to ever be killed in an air accident, af...</td>\n",
       "    </tr>\n",
       "  </tbody>\n",
       "</table>\n",
       "</div>"
      ],
      "text/plain": [
       "        Date   Time                 Location              Operator Flight  \\\n",
       "0 1908-09-17  17:00      Fort Myer, Virginia  Military - U.S. Army    NaN   \n",
       "1 1909-09-07    NaN  Juvisy-sur-Orge, France                   NaN    NaN   \n",
       "\n",
       "           Route              Type Registration Serial  Aboard  \\\n",
       "0  Demonstration  Wright Flyer III          NaN      1       2   \n",
       "1       Air show    Wright Byplane          SC1    NaN       1   \n",
       "\n",
       "  Passenger_Aboard Crew_Aboard  Fatalities Passenger_Fatalities  \\\n",
       "0                1           1           1                    1   \n",
       "1                0           1           1                    0   \n",
       "\n",
       "   Crew_Fatalities Ground_Fatalities  \\\n",
       "0                0                 0   \n",
       "1                0                 0   \n",
       "\n",
       "                                                                           Summary  \n",
       "0  During a demonstration flight, a U.S. Army flyer flown by Orville Wright nos...  \n",
       "1  Eugene Lefebvre was the first pilot to ever be killed in an air accident, af...  "
      ]
     },
     "execution_count": 143,
     "metadata": {},
     "output_type": "execute_result"
    }
   ],
   "source": [
    "df.head(2)"
   ]
  },
  {
   "cell_type": "markdown",
   "metadata": {},
   "source": [
    "Separamos la columna Location en 2 columnas que se dividan en City/State y Country"
   ]
  },
  {
   "cell_type": "code",
   "execution_count": 144,
   "metadata": {},
   "outputs": [],
   "source": [
    "df[['City/State', 'Country']] = df['Location'].str.rsplit(', ', n=1, expand=True)"
   ]
  },
  {
   "cell_type": "code",
   "execution_count": 145,
   "metadata": {},
   "outputs": [],
   "source": [
    "# Lista de estados de Estados Unidos\n",
    "estados_usa = [\n",
    "    \"Alabama\", \"Alaska\", \"Arizona\", \"Arkansas\", \"California\", \"Colorado\", \"Connecticut\",\n",
    "    \"Delaware\", \"Florida\", \"Georgia\", \"Hawaii\", \"Idaho\", \"Illinois\", \"Indiana\", \"Iowa\",\n",
    "    \"Kansas\", \"Kentucky\", \"Louisiana\", \"Maine\", \"Maryland\", \"Massachusetts\", \"Michigan\",\n",
    "    \"Minnesota\", \"Mississippi\", \"Missouri\", \"Montana\", \"Nebraska\", \"Nevada\", \"New Hampshire\",\n",
    "    \"New Jersey\", \"New Mexico\", \"New York\", \"North Carolina\", \"North Dakota\", \"Ohio\", \"Oklahoma\",\n",
    "    \"Oregon\", \"Pennsylvania\", \"Rhode Island\", \"South Carolina\", \"South Dakota\", \"Tennessee\",\n",
    "    \"Texas\", \"Utah\", \"Vermont\", \"Virginia\", \"Washington\", \"West Virginia\", \"Wisconsin\", \"Wyoming\"\n",
    "]\n",
    "\n",
    "def corregir_ciudad_estado(row):\n",
    "    if row['Country'] in estados_usa:\n",
    "        row['City/State'] = row['City/State'] + ', ' + row['Country']\n",
    "        row['Country'] = 'United States'\n",
    "    return row\n",
    "\n",
    "# Aplicar la función a cada fila del DataFrame\n",
    "df = df.apply(corregir_ciudad_estado, axis=1)"
   ]
  },
  {
   "cell_type": "markdown",
   "metadata": {},
   "source": [
    "Separamos la columna Date en Year y Month"
   ]
  },
  {
   "cell_type": "code",
   "execution_count": 146,
   "metadata": {},
   "outputs": [],
   "source": [
    "df['Year'] = df['Date'].dt.year\n",
    "df['Month'] = df['Date'].dt.month\n",
    "df.insert(1, 'Year', df.pop('Year'))\n",
    "df.insert(2, 'Month', df.pop('Month'))"
   ]
  },
  {
   "cell_type": "markdown",
   "metadata": {},
   "source": [
    "Quitamos las columnas que no son relevantes para hacer análisis"
   ]
  },
  {
   "cell_type": "code",
   "execution_count": 147,
   "metadata": {},
   "outputs": [],
   "source": [
    "df = df.drop(columns=['Flight', 'Registration', 'Serial', 'Passenger_Aboard', 'Crew_Aboard', 'Passenger_Fatalities', 'Ground_Fatalities', 'Location'])"
   ]
  },
  {
   "cell_type": "markdown",
   "metadata": {},
   "source": [
    "Reacomodar las columnas para mejor visualización del dataset"
   ]
  },
  {
   "cell_type": "code",
   "execution_count": 148,
   "metadata": {},
   "outputs": [],
   "source": [
    "# Extraer la última columna\n",
    "last_column = df.pop(df.columns[-1])\n",
    "\n",
    "position_to_insert = 4\n",
    "df.insert(position_to_insert, last_column.name, last_column)\n",
    "\n",
    "# Extraer la última columna\n",
    "last_column = df.pop(df.columns[-1])\n",
    "\n",
    "position_to_insert = 4\n",
    "df.insert(position_to_insert, last_column.name, last_column)"
   ]
  },
  {
   "cell_type": "markdown",
   "metadata": {},
   "source": [
    "Eliminamos las palabras 'Near'"
   ]
  },
  {
   "cell_type": "code",
   "execution_count": 149,
   "metadata": {},
   "outputs": [],
   "source": [
    "# Eliminar 'Near ' de las columnas 'City/State' y 'Country'\n",
    "df['City/State'] = df['City/State'].str.replace('Near ', '')\n",
    "df['Country'] = df['Country'].str.replace('Near ', '')"
   ]
  },
  {
   "cell_type": "markdown",
   "metadata": {},
   "source": [
    "Crear una columna que identifique si el operador del avión es militar o no"
   ]
  },
  {
   "cell_type": "code",
   "execution_count": 150,
   "metadata": {},
   "outputs": [],
   "source": [
    "# Función para determinar si 'Operator' contiene palabras relacionadas con lo militar\n",
    "def is_military(operator):\n",
    "    if operator is None:\n",
    "        return 'No'\n",
    "    \n",
    "    military_keywords = ['Military', 'Army', 'Navy', 'Force', 'Militar', 'Armada', 'Naval', 'Fuerza']\n",
    "    for keyword in military_keywords:\n",
    "        if keyword.lower() in str(operator).lower():\n",
    "            return 'Yes'\n",
    "    return 'No'\n",
    "\n",
    "# Aplicar la función a cada fila y agregar los resultados a una nueva columna 'Military'\n",
    "df['Military'] = df['Operator'].apply(is_military)\n",
    "\n",
    "# Extraer la última columna\n",
    "last_column = df.pop(df.columns[-1])\n",
    "\n",
    "position_to_insert = 7\n",
    "df.insert(position_to_insert, last_column.name, last_column)"
   ]
  },
  {
   "cell_type": "code",
   "execution_count": 151,
   "metadata": {},
   "outputs": [],
   "source": [
    "# Función para verificar si la columna 'Summary' contiene palabras relacionadas con el clima\n",
    "def is_weather_related(summary):\n",
    "    if pd.isna(summary):  # Verificar si el campo está vacío\n",
    "        return 'No'\n",
    "    \n",
    "    weather_keywords = ['rain', 'wind', 'snow', 'storm', 'sunny', 'cloudy', 'fog', 'hail', 'thunder', 'tornado',\n",
    "                        'hurricane', 'blizzard', 'freezing', 'ice', 'sleet', 'heat', 'cold', 'flood', 'drought', 'weather']\n",
    "    summary = summary.lower()  # Convertir a minúsculas para hacer la comparación insensible a mayúsculas\n",
    "    for keyword in weather_keywords:\n",
    "        if keyword in summary:\n",
    "            return 'Yes'\n",
    "    return 'No'\n",
    "\n",
    "# Aplicar la función a cada fila de la columna 'Summary' y crear la columna 'Weather'\n",
    "df['Weather_Accident'] = df['Summary'].apply(is_weather_related)"
   ]
  },
  {
   "cell_type": "code",
   "execution_count": 152,
   "metadata": {},
   "outputs": [],
   "source": [
    "df_final = df"
   ]
  },
  {
   "cell_type": "code",
   "execution_count": 153,
   "metadata": {},
   "outputs": [],
   "source": [
    "df_final.to_csv('.\\Accidentes_limpio.csv', index=False)"
   ]
  },
  {
   "cell_type": "code",
   "execution_count": 154,
   "metadata": {},
   "outputs": [
    {
     "data": {
      "text/html": [
       "<div>\n",
       "<style scoped>\n",
       "    .dataframe tbody tr th:only-of-type {\n",
       "        vertical-align: middle;\n",
       "    }\n",
       "\n",
       "    .dataframe tbody tr th {\n",
       "        vertical-align: top;\n",
       "    }\n",
       "\n",
       "    .dataframe thead th {\n",
       "        text-align: right;\n",
       "    }\n",
       "</style>\n",
       "<table border=\"1\" class=\"dataframe\">\n",
       "  <thead>\n",
       "    <tr style=\"text-align: right;\">\n",
       "      <th></th>\n",
       "      <th>Date</th>\n",
       "      <th>Year</th>\n",
       "      <th>Month</th>\n",
       "      <th>Time</th>\n",
       "      <th>City/State</th>\n",
       "      <th>Country</th>\n",
       "      <th>Operator</th>\n",
       "      <th>Military</th>\n",
       "      <th>Route</th>\n",
       "      <th>Type</th>\n",
       "      <th>Aboard</th>\n",
       "      <th>Fatalities</th>\n",
       "      <th>Crew_Fatalities</th>\n",
       "      <th>Summary</th>\n",
       "      <th>Weather_Accident</th>\n",
       "    </tr>\n",
       "  </thead>\n",
       "  <tbody>\n",
       "    <tr>\n",
       "      <th>0</th>\n",
       "      <td>1908-09-17</td>\n",
       "      <td>1908</td>\n",
       "      <td>9</td>\n",
       "      <td>17:00</td>\n",
       "      <td>Fort Myer, Virginia</td>\n",
       "      <td>United States</td>\n",
       "      <td>Military - U.S. Army</td>\n",
       "      <td>Yes</td>\n",
       "      <td>Demonstration</td>\n",
       "      <td>Wright Flyer III</td>\n",
       "      <td>2</td>\n",
       "      <td>1</td>\n",
       "      <td>0</td>\n",
       "      <td>During a demonstration flight, a U.S. Army flyer flown by Orville Wright nos...</td>\n",
       "      <td>No</td>\n",
       "    </tr>\n",
       "    <tr>\n",
       "      <th>1</th>\n",
       "      <td>1909-09-07</td>\n",
       "      <td>1909</td>\n",
       "      <td>9</td>\n",
       "      <td>NaN</td>\n",
       "      <td>Juvisy-sur-Orge</td>\n",
       "      <td>France</td>\n",
       "      <td>NaN</td>\n",
       "      <td>No</td>\n",
       "      <td>Air show</td>\n",
       "      <td>Wright Byplane</td>\n",
       "      <td>1</td>\n",
       "      <td>1</td>\n",
       "      <td>0</td>\n",
       "      <td>Eugene Lefebvre was the first pilot to ever be killed in an air accident, af...</td>\n",
       "      <td>No</td>\n",
       "    </tr>\n",
       "    <tr>\n",
       "      <th>2</th>\n",
       "      <td>1912-07-12</td>\n",
       "      <td>1912</td>\n",
       "      <td>7</td>\n",
       "      <td>06:00</td>\n",
       "      <td>Atlantic City, New Jersey</td>\n",
       "      <td>United States</td>\n",
       "      <td>Military - U.S. Navy</td>\n",
       "      <td>Yes</td>\n",
       "      <td>Test flight</td>\n",
       "      <td>Dirigible</td>\n",
       "      <td>5</td>\n",
       "      <td>5</td>\n",
       "      <td>5</td>\n",
       "      <td>First U.S. dirigible Akron exploded just offshore at an altitude of 1,000 ft...</td>\n",
       "      <td>No</td>\n",
       "    </tr>\n",
       "    <tr>\n",
       "      <th>3</th>\n",
       "      <td>1913-08-06</td>\n",
       "      <td>1913</td>\n",
       "      <td>8</td>\n",
       "      <td>NaN</td>\n",
       "      <td>Victoria, British Columbia</td>\n",
       "      <td>Canada</td>\n",
       "      <td>Private</td>\n",
       "      <td>No</td>\n",
       "      <td>NaN</td>\n",
       "      <td>Curtiss seaplane</td>\n",
       "      <td>1</td>\n",
       "      <td>1</td>\n",
       "      <td>1</td>\n",
       "      <td>The first fatal airplane accident in Canada occurred when American barnstorm...</td>\n",
       "      <td>Yes</td>\n",
       "    </tr>\n",
       "    <tr>\n",
       "      <th>4</th>\n",
       "      <td>1913-09-09</td>\n",
       "      <td>1913</td>\n",
       "      <td>9</td>\n",
       "      <td>18:00</td>\n",
       "      <td>Over the North Sea</td>\n",
       "      <td>None</td>\n",
       "      <td>Military - German Navy</td>\n",
       "      <td>Yes</td>\n",
       "      <td>NaN</td>\n",
       "      <td>Zeppelin L-1 (airship)</td>\n",
       "      <td>20</td>\n",
       "      <td>14</td>\n",
       "      <td>0</td>\n",
       "      <td>The airship flew into a thunderstorm and encountered a severe downdraft cras...</td>\n",
       "      <td>Yes</td>\n",
       "    </tr>\n",
       "    <tr>\n",
       "      <th>...</th>\n",
       "      <td>...</td>\n",
       "      <td>...</td>\n",
       "      <td>...</td>\n",
       "      <td>...</td>\n",
       "      <td>...</td>\n",
       "      <td>...</td>\n",
       "      <td>...</td>\n",
       "      <td>...</td>\n",
       "      <td>...</td>\n",
       "      <td>...</td>\n",
       "      <td>...</td>\n",
       "      <td>...</td>\n",
       "      <td>...</td>\n",
       "      <td>...</td>\n",
       "      <td>...</td>\n",
       "    </tr>\n",
       "    <tr>\n",
       "      <th>5003</th>\n",
       "      <td>2021-03-28</td>\n",
       "      <td>2021</td>\n",
       "      <td>3</td>\n",
       "      <td>18:00</td>\n",
       "      <td>Butte, Alaska</td>\n",
       "      <td>United States</td>\n",
       "      <td>Soloy Helicopters</td>\n",
       "      <td>No</td>\n",
       "      <td>Sightseeing Charter</td>\n",
       "      <td>Eurocopter AS350B3 Ecureuil</td>\n",
       "      <td>6</td>\n",
       "      <td>5</td>\n",
       "      <td>1</td>\n",
       "      <td>The sightseeing helicopter crashed after missing the top of a 6,000 ft mount...</td>\n",
       "      <td>No</td>\n",
       "    </tr>\n",
       "    <tr>\n",
       "      <th>5004</th>\n",
       "      <td>2021-05-21</td>\n",
       "      <td>2021</td>\n",
       "      <td>5</td>\n",
       "      <td>18:00</td>\n",
       "      <td>Kaduna</td>\n",
       "      <td>Nigeria</td>\n",
       "      <td>Military - Nigerian Air Force</td>\n",
       "      <td>Yes</td>\n",
       "      <td>NaN</td>\n",
       "      <td>Beechcraft B300 King Air 350i</td>\n",
       "      <td>11</td>\n",
       "      <td>11</td>\n",
       "      <td>4</td>\n",
       "      <td>While on final approach, in poor weather conditions, the aircraft crashed an...</td>\n",
       "      <td>Yes</td>\n",
       "    </tr>\n",
       "    <tr>\n",
       "      <th>5005</th>\n",
       "      <td>2021-06-10</td>\n",
       "      <td>2021</td>\n",
       "      <td>6</td>\n",
       "      <td>08:00</td>\n",
       "      <td>Pyin Oo Lwin</td>\n",
       "      <td>Myanmar</td>\n",
       "      <td>Military - Myanmar Air Force</td>\n",
       "      <td>Yes</td>\n",
       "      <td>Naypyidaw - Anisakan</td>\n",
       "      <td>Beechcraft 1900D</td>\n",
       "      <td>14</td>\n",
       "      <td>12</td>\n",
       "      <td>1</td>\n",
       "      <td>The plane was carrying military personnel and monks when it crashed about 30...</td>\n",
       "      <td>Yes</td>\n",
       "    </tr>\n",
       "    <tr>\n",
       "      <th>5006</th>\n",
       "      <td>2021-07-04</td>\n",
       "      <td>2021</td>\n",
       "      <td>7</td>\n",
       "      <td>NaN</td>\n",
       "      <td>Patikul, Sulu</td>\n",
       "      <td>Philippines</td>\n",
       "      <td>Military - Philippine Air Force</td>\n",
       "      <td>Yes</td>\n",
       "      <td>Cagayan de Oro-Lumbia - Jolo</td>\n",
       "      <td>Lockheed C-130H Hercules</td>\n",
       "      <td>96</td>\n",
       "      <td>50</td>\n",
       "      <td>0</td>\n",
       "      <td>While attempting to land at Jolo Airport, the military transport overran the...</td>\n",
       "      <td>No</td>\n",
       "    </tr>\n",
       "    <tr>\n",
       "      <th>5007</th>\n",
       "      <td>2021-07-06</td>\n",
       "      <td>2021</td>\n",
       "      <td>7</td>\n",
       "      <td>15:00</td>\n",
       "      <td>Palana</td>\n",
       "      <td>Russia</td>\n",
       "      <td>Kamchatka Aviation Enterprise</td>\n",
       "      <td>No</td>\n",
       "      <td>Petropavlovsk - Palana</td>\n",
       "      <td>Antonov An 26B-100</td>\n",
       "      <td>28</td>\n",
       "      <td>28</td>\n",
       "      <td>6</td>\n",
       "      <td>The passenger plane crashed into the top of a cliff while attempting to land...</td>\n",
       "      <td>Yes</td>\n",
       "    </tr>\n",
       "  </tbody>\n",
       "</table>\n",
       "<p>5008 rows × 15 columns</p>\n",
       "</div>"
      ],
      "text/plain": [
       "           Date  Year  Month   Time                  City/State  \\\n",
       "0    1908-09-17  1908      9  17:00         Fort Myer, Virginia   \n",
       "1    1909-09-07  1909      9    NaN             Juvisy-sur-Orge   \n",
       "2    1912-07-12  1912      7  06:00   Atlantic City, New Jersey   \n",
       "3    1913-08-06  1913      8    NaN  Victoria, British Columbia   \n",
       "4    1913-09-09  1913      9  18:00          Over the North Sea   \n",
       "...         ...   ...    ...    ...                         ...   \n",
       "5003 2021-03-28  2021      3  18:00               Butte, Alaska   \n",
       "5004 2021-05-21  2021      5  18:00                      Kaduna   \n",
       "5005 2021-06-10  2021      6  08:00                Pyin Oo Lwin   \n",
       "5006 2021-07-04  2021      7    NaN               Patikul, Sulu   \n",
       "5007 2021-07-06  2021      7  15:00                      Palana   \n",
       "\n",
       "            Country                         Operator Military  \\\n",
       "0     United States             Military - U.S. Army      Yes   \n",
       "1            France                              NaN       No   \n",
       "2     United States             Military - U.S. Navy      Yes   \n",
       "3            Canada                          Private       No   \n",
       "4              None           Military - German Navy      Yes   \n",
       "...             ...                              ...      ...   \n",
       "5003  United States                Soloy Helicopters       No   \n",
       "5004        Nigeria    Military - Nigerian Air Force      Yes   \n",
       "5005        Myanmar     Military - Myanmar Air Force      Yes   \n",
       "5006    Philippines  Military - Philippine Air Force      Yes   \n",
       "5007         Russia    Kamchatka Aviation Enterprise       No   \n",
       "\n",
       "                             Route                           Type  Aboard  \\\n",
       "0                    Demonstration               Wright Flyer III       2   \n",
       "1                         Air show                 Wright Byplane       1   \n",
       "2                      Test flight                      Dirigible       5   \n",
       "3                              NaN               Curtiss seaplane       1   \n",
       "4                              NaN         Zeppelin L-1 (airship)      20   \n",
       "...                            ...                            ...     ...   \n",
       "5003           Sightseeing Charter    Eurocopter AS350B3 Ecureuil       6   \n",
       "5004                           NaN  Beechcraft B300 King Air 350i      11   \n",
       "5005          Naypyidaw - Anisakan               Beechcraft 1900D      14   \n",
       "5006  Cagayan de Oro-Lumbia - Jolo       Lockheed C-130H Hercules      96   \n",
       "5007        Petropavlovsk - Palana             Antonov An 26B-100      28   \n",
       "\n",
       "      Fatalities  Crew_Fatalities  \\\n",
       "0              1                0   \n",
       "1              1                0   \n",
       "2              5                5   \n",
       "3              1                1   \n",
       "4             14                0   \n",
       "...          ...              ...   \n",
       "5003           5                1   \n",
       "5004          11                4   \n",
       "5005          12                1   \n",
       "5006          50                0   \n",
       "5007          28                6   \n",
       "\n",
       "                                                                              Summary  \\\n",
       "0     During a demonstration flight, a U.S. Army flyer flown by Orville Wright nos...   \n",
       "1     Eugene Lefebvre was the first pilot to ever be killed in an air accident, af...   \n",
       "2     First U.S. dirigible Akron exploded just offshore at an altitude of 1,000 ft...   \n",
       "3     The first fatal airplane accident in Canada occurred when American barnstorm...   \n",
       "4     The airship flew into a thunderstorm and encountered a severe downdraft cras...   \n",
       "...                                                                               ...   \n",
       "5003  The sightseeing helicopter crashed after missing the top of a 6,000 ft mount...   \n",
       "5004  While on final approach, in poor weather conditions, the aircraft crashed an...   \n",
       "5005  The plane was carrying military personnel and monks when it crashed about 30...   \n",
       "5006  While attempting to land at Jolo Airport, the military transport overran the...   \n",
       "5007  The passenger plane crashed into the top of a cliff while attempting to land...   \n",
       "\n",
       "     Weather_Accident  \n",
       "0                  No  \n",
       "1                  No  \n",
       "2                  No  \n",
       "3                 Yes  \n",
       "4                 Yes  \n",
       "...               ...  \n",
       "5003               No  \n",
       "5004              Yes  \n",
       "5005              Yes  \n",
       "5006               No  \n",
       "5007              Yes  \n",
       "\n",
       "[5008 rows x 15 columns]"
      ]
     },
     "execution_count": 154,
     "metadata": {},
     "output_type": "execute_result"
    }
   ],
   "source": [
    "df_final"
   ]
  }
 ],
 "metadata": {
  "kernelspec": {
   "display_name": "Python 3",
   "language": "python",
   "name": "python3"
  },
  "language_info": {
   "codemirror_mode": {
    "name": "ipython",
    "version": 3
   },
   "file_extension": ".py",
   "mimetype": "text/x-python",
   "name": "python",
   "nbconvert_exporter": "python",
   "pygments_lexer": "ipython3",
   "version": "3.11.3"
  },
  "orig_nbformat": 4
 },
 "nbformat": 4,
 "nbformat_minor": 2
}
